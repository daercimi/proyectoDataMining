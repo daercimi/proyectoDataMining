{
 "cells": [
  {
   "cell_type": "markdown",
   "metadata": {},
   "source": [
    "# Grupo 3\n",
    "* Caicedo Porras, Jose Ricardo\n",
    "* Cifuentes Michuy, Daniel Ernesto\n",
    "* Perez Fonseca, Juan Diego\n",
    "* Ramos Villarreal, Edward Junior\n",
    "* Torres Briones, Diego Leonardo\n",
    "* Zambrano Quispe, Arian Alberto\n"
   ]
  },
  {
   "cell_type": "code",
   "execution_count": 36,
   "metadata": {},
   "outputs": [],
   "source": [
    "#importamos las librerías\n",
    "import pandas as pd\n",
    "import numpy as np\n",
    "import matplotlib.pyplot as plt"
   ]
  },
  {
   "cell_type": "code",
   "execution_count": null,
   "metadata": {},
   "outputs": [],
   "source": [
    "#importamos nuestro dataset\n",
    "data = pd.read_csv(\"indicadoresrural2018.csv\")"
   ]
  },
  {
   "cell_type": "code",
   "execution_count": 59,
   "metadata": {},
   "outputs": [
    {
     "data": {
      "text/html": [
       "<div>\n",
       "<style scoped>\n",
       "    .dataframe tbody tr th:only-of-type {\n",
       "        vertical-align: middle;\n",
       "    }\n",
       "\n",
       "    .dataframe tbody tr th {\n",
       "        vertical-align: top;\n",
       "    }\n",
       "\n",
       "    .dataframe thead th {\n",
       "        text-align: right;\n",
       "    }\n",
       "</style>\n",
       "<table border=\"1\" class=\"dataframe\">\n",
       "  <thead>\n",
       "    <tr style=\"text-align: right;\">\n",
       "      <th></th>\n",
       "      <th>D_DPTO</th>\n",
       "      <th>D_PROV</th>\n",
       "      <th>D_DIST</th>\n",
       "      <th>D_DREUGEL</th>\n",
       "      <th>RURAL_PMM</th>\n",
       "      <th>RURAL_PMM_MUJE1</th>\n",
       "      <th>RURAL_PMM_MUJE2</th>\n",
       "      <th>RURAL_PMM_HOME1</th>\n",
       "      <th>RURAL_PMM_HOME2</th>\n",
       "      <th>RURAL_PMMA_MUJE1</th>\n",
       "      <th>...</th>\n",
       "      <th>RURAL_CRFA_MUJE1</th>\n",
       "      <th>RURAL_CRFA_MUJE2</th>\n",
       "      <th>RURAL_CRFA_HOME1</th>\n",
       "      <th>RURAL_CRFA_HOME2</th>\n",
       "      <th>RURAL_SRE_MUJE1</th>\n",
       "      <th>RURAL_SRE_MUJE2</th>\n",
       "      <th>RURAL_SRE_HOME1</th>\n",
       "      <th>RURAL_SRE_HOME2</th>\n",
       "      <th>RURAL_MSE_MUJDOC</th>\n",
       "      <th>RURAL_MSE_HOMDOC</th>\n",
       "    </tr>\n",
       "  </thead>\n",
       "  <tbody>\n",
       "    <tr>\n",
       "      <th>0</th>\n",
       "      <td>Amazonas</td>\n",
       "      <td>BAGUA</td>\n",
       "      <td>ARAMANGO</td>\n",
       "      <td>UGEL BAGUA</td>\n",
       "      <td>39</td>\n",
       "      <td>265</td>\n",
       "      <td>19</td>\n",
       "      <td>270</td>\n",
       "      <td>29</td>\n",
       "      <td>16</td>\n",
       "      <td>...</td>\n",
       "      <td>0</td>\n",
       "      <td>0</td>\n",
       "      <td>0</td>\n",
       "      <td>0</td>\n",
       "      <td>27</td>\n",
       "      <td>0</td>\n",
       "      <td>27</td>\n",
       "      <td>5</td>\n",
       "      <td>2</td>\n",
       "      <td>5</td>\n",
       "    </tr>\n",
       "    <tr>\n",
       "      <th>1</th>\n",
       "      <td>Amazonas</td>\n",
       "      <td>BAGUA</td>\n",
       "      <td>BAGUA</td>\n",
       "      <td>UGEL BAGUA</td>\n",
       "      <td>3</td>\n",
       "      <td>37</td>\n",
       "      <td>6</td>\n",
       "      <td>63</td>\n",
       "      <td>10</td>\n",
       "      <td>0</td>\n",
       "      <td>...</td>\n",
       "      <td>0</td>\n",
       "      <td>0</td>\n",
       "      <td>0</td>\n",
       "      <td>0</td>\n",
       "      <td>0</td>\n",
       "      <td>0</td>\n",
       "      <td>0</td>\n",
       "      <td>0</td>\n",
       "      <td>0</td>\n",
       "      <td>0</td>\n",
       "    </tr>\n",
       "    <tr>\n",
       "      <th>2</th>\n",
       "      <td>Amazonas</td>\n",
       "      <td>BAGUA</td>\n",
       "      <td>COPALLIN</td>\n",
       "      <td>UGEL BAGUA</td>\n",
       "      <td>15</td>\n",
       "      <td>96</td>\n",
       "      <td>8</td>\n",
       "      <td>126</td>\n",
       "      <td>10</td>\n",
       "      <td>20</td>\n",
       "      <td>...</td>\n",
       "      <td>0</td>\n",
       "      <td>0</td>\n",
       "      <td>0</td>\n",
       "      <td>0</td>\n",
       "      <td>0</td>\n",
       "      <td>0</td>\n",
       "      <td>0</td>\n",
       "      <td>0</td>\n",
       "      <td>0</td>\n",
       "      <td>0</td>\n",
       "    </tr>\n",
       "    <tr>\n",
       "      <th>3</th>\n",
       "      <td>Amazonas</td>\n",
       "      <td>BAGUA</td>\n",
       "      <td>IMAZA</td>\n",
       "      <td>UGEL IBIR-IMAZA</td>\n",
       "      <td>1</td>\n",
       "      <td>2</td>\n",
       "      <td>0</td>\n",
       "      <td>3</td>\n",
       "      <td>0</td>\n",
       "      <td>43</td>\n",
       "      <td>...</td>\n",
       "      <td>0</td>\n",
       "      <td>0</td>\n",
       "      <td>0</td>\n",
       "      <td>0</td>\n",
       "      <td>507</td>\n",
       "      <td>27</td>\n",
       "      <td>662</td>\n",
       "      <td>65</td>\n",
       "      <td>22</td>\n",
       "      <td>68</td>\n",
       "    </tr>\n",
       "    <tr>\n",
       "      <th>4</th>\n",
       "      <td>Amazonas</td>\n",
       "      <td>BAGUA</td>\n",
       "      <td>LA PECA</td>\n",
       "      <td>UGEL BAGUA</td>\n",
       "      <td>33</td>\n",
       "      <td>220</td>\n",
       "      <td>14</td>\n",
       "      <td>234</td>\n",
       "      <td>22</td>\n",
       "      <td>0</td>\n",
       "      <td>...</td>\n",
       "      <td>0</td>\n",
       "      <td>0</td>\n",
       "      <td>0</td>\n",
       "      <td>0</td>\n",
       "      <td>0</td>\n",
       "      <td>0</td>\n",
       "      <td>0</td>\n",
       "      <td>0</td>\n",
       "      <td>0</td>\n",
       "      <td>0</td>\n",
       "    </tr>\n",
       "  </tbody>\n",
       "</table>\n",
       "<p>5 rows × 30 columns</p>\n",
       "</div>"
      ],
      "text/plain": [
       "     D_DPTO D_PROV    D_DIST        D_DREUGEL  RURAL_PMM  RURAL_PMM_MUJE1  \\\n",
       "0  Amazonas  BAGUA  ARAMANGO       UGEL BAGUA         39              265   \n",
       "1  Amazonas  BAGUA     BAGUA       UGEL BAGUA          3               37   \n",
       "2  Amazonas  BAGUA  COPALLIN       UGEL BAGUA         15               96   \n",
       "3  Amazonas  BAGUA     IMAZA  UGEL IBIR-IMAZA          1                2   \n",
       "4  Amazonas  BAGUA   LA PECA       UGEL BAGUA         33              220   \n",
       "\n",
       "   RURAL_PMM_MUJE2  RURAL_PMM_HOME1  RURAL_PMM_HOME2  RURAL_PMMA_MUJE1  ...  \\\n",
       "0               19              270               29                16  ...   \n",
       "1                6               63               10                 0  ...   \n",
       "2                8              126               10                20  ...   \n",
       "3                0                3                0                43  ...   \n",
       "4               14              234               22                 0  ...   \n",
       "\n",
       "   RURAL_CRFA_MUJE1  RURAL_CRFA_MUJE2  RURAL_CRFA_HOME1  RURAL_CRFA_HOME2  \\\n",
       "0                 0                 0                 0                 0   \n",
       "1                 0                 0                 0                 0   \n",
       "2                 0                 0                 0                 0   \n",
       "3                 0                 0                 0                 0   \n",
       "4                 0                 0                 0                 0   \n",
       "\n",
       "   RURAL_SRE_MUJE1  RURAL_SRE_MUJE2  RURAL_SRE_HOME1  RURAL_SRE_HOME2  \\\n",
       "0               27                0               27                5   \n",
       "1                0                0                0                0   \n",
       "2                0                0                0                0   \n",
       "3              507               27              662               65   \n",
       "4                0                0                0                0   \n",
       "\n",
       "   RURAL_MSE_MUJDOC  RURAL_MSE_HOMDOC  \n",
       "0                 2                 5  \n",
       "1                 0                 0  \n",
       "2                 0                 0  \n",
       "3                22                68  \n",
       "4                 0                 0  \n",
       "\n",
       "[5 rows x 30 columns]"
      ]
     },
     "execution_count": 59,
     "metadata": {},
     "output_type": "execute_result"
    }
   ],
   "source": [
    "data.head()"
   ]
  },
  {
   "cell_type": "markdown",
   "metadata": {},
   "source": [
    "Tenemos que explorar los datos"
   ]
  },
  {
   "cell_type": "code",
   "execution_count": null,
   "metadata": {},
   "outputs": [],
   "source": [
    "data.info()"
   ]
  },
  {
   "cell_type": "code",
   "execution_count": 14,
   "metadata": {},
   "outputs": [
    {
     "data": {
      "text/plain": [
       "Index(['D_DPTO', 'D_PROV', 'D_DIST', 'D_DREUGEL', 'RURAL_PMM',\n",
       "       'RURAL_PMM_MUJE1', 'RURAL_PMM_MUJE2', 'RURAL_PMM_HOME1',\n",
       "       'RURAL_PMM_HOME2', 'RURAL_PMMA_MUJE1', 'RURAL_PMMA_MUJE2',\n",
       "       'RURAL_PMMA_HOME1', 'RURAL_PMMA_HOME2', 'RURAL_PMM_MUJDOC',\n",
       "       'RURAL_PMM_HOMDOC', 'RURAL_PMMA_MUJDOC', 'RURAL_PMMA_HOMDOC',\n",
       "       'RURAL_CRFA', 'RURAL_SRE', 'RURAL_ST', 'RURAL_CRFA_MUJE1',\n",
       "       'RURAL_CRFA_MUJE2', 'RURAL_CRFA_HOME1', 'RURAL_CRFA_HOME2',\n",
       "       'RURAL_SRE_MUJE1', 'RURAL_SRE_MUJE2', 'RURAL_SRE_HOME1',\n",
       "       'RURAL_SRE_HOME2', 'RURAL_MSE_MUJDOC', 'RURAL_MSE_HOMDOC'],\n",
       "      dtype='object')"
      ]
     },
     "execution_count": 14,
     "metadata": {},
     "output_type": "execute_result"
    }
   ],
   "source": [
    "data.columns"
   ]
  },
  {
   "cell_type": "markdown",
   "metadata": {},
   "source": [
    "Renombramos algunas columnas"
   ]
  },
  {
   "cell_type": "code",
   "execution_count": 61,
   "metadata": {},
   "outputs": [],
   "source": [
    "data = data.rename(columns={\n",
    "    'D_DPTO':'Departamento',\n",
    "    'D_PROV':'Provincia',\n",
    "    'D_DIST':'Distrito',\n",
    "    'D_DREUGEL':'UGEL'\n",
    "})"
   ]
  },
  {
   "cell_type": "code",
   "execution_count": 63,
   "metadata": {},
   "outputs": [
    {
     "data": {
      "text/plain": [
       "Index(['Departamento', 'Provincia', 'Distrito', 'UGEL', 'RURAL_PMM',\n",
       "       'RURAL_PMM_MUJE1', 'RURAL_PMM_MUJE2', 'RURAL_PMM_HOME1',\n",
       "       'RURAL_PMM_HOME2', 'RURAL_PMMA_MUJE1', 'RURAL_PMMA_MUJE2',\n",
       "       'RURAL_PMMA_HOME1', 'RURAL_PMMA_HOME2', 'RURAL_PMM_MUJDOC',\n",
       "       'RURAL_PMM_HOMDOC', 'RURAL_PMMA_MUJDOC', 'RURAL_PMMA_HOMDOC',\n",
       "       'RURAL_CRFA', 'RURAL_SRE', 'RURAL_ST', 'RURAL_CRFA_MUJE1',\n",
       "       'RURAL_CRFA_MUJE2', 'RURAL_CRFA_HOME1', 'RURAL_CRFA_HOME2',\n",
       "       'RURAL_SRE_MUJE1', 'RURAL_SRE_MUJE2', 'RURAL_SRE_HOME1',\n",
       "       'RURAL_SRE_HOME2', 'RURAL_MSE_MUJDOC', 'RURAL_MSE_HOMDOC'],\n",
       "      dtype='object')"
      ]
     },
     "execution_count": 63,
     "metadata": {},
     "output_type": "execute_result"
    }
   ],
   "source": [
    "data.columns"
   ]
  },
  {
   "cell_type": "code",
   "execution_count": 58,
   "metadata": {},
   "outputs": [
    {
     "data": {
      "text/plain": [
       "<AxesSubplot:>"
      ]
     },
     "execution_count": 58,
     "metadata": {},
     "output_type": "execute_result"
    },
    {
     "data": {
      "image/png": "[encoded data removed]",
      "text/plain": [
       "<Figure size 1440x720 with 1 Axes>"
      ]
     },
     "metadata": {
      "needs_background": "light"
     },
     "output_type": "display_data"
    }
   ],
   "source": [
    "data['D_DPTO'].value_counts(sort=False).plot(kind='bar')"
   ]
  }
 ],
 "metadata": {
  "interpreter": {
   "hash": "8fac594bfae6525c0c41b4041d2d72effa188cc8ead05f81b1fab2bb098927fb"
  },
  "kernelspec": {
   "display_name": "Python 3.8.8 64-bit ('base': conda)",
   "name": "python3"
  },
  "language_info": {
   "codemirror_mode": {
    "name": "ipython",
    "version": 3
   },
   "file_extension": ".py",
   "mimetype": "text/x-python",
   "name": "python",
   "nbconvert_exporter": "python",
   "pygments_lexer": "ipython3",
   "version": "3.8.8"
  },
  "orig_nbformat": 4
 },
 "nbformat": 4,
 "nbformat_minor": 2
}
